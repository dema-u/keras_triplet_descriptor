{
  "nbformat": 4,
  "nbformat_minor": 0,
  "metadata": {
    "colab": {
      "name": "DLCW.ipynb",
      "version": "0.3.2",
      "provenance": [],
      "include_colab_link": true
    },
    "kernelspec": {
      "name": "python2",
      "display_name": "Python 2"
    },
    "accelerator": "GPU"
  },
  "cells": [
    {
      "cell_type": "markdown",
      "metadata": {
        "id": "view-in-github",
        "colab_type": "text"
      },
      "source": [
        "<a href=\"https://colab.research.google.com/github/dema-u/keras_triplet_descriptor/blob/master/DLCW.ipynb\" target=\"_parent\"><img src=\"https://colab.research.google.com/assets/colab-badge.svg\" alt=\"Open In Colab\"/></a>"
      ]
    },
    {
      "metadata": {
        "id": "PGc1Vfwo3aUI",
        "colab_type": "text"
      },
      "cell_type": "markdown",
      "source": [
        "### GPU CHECKS AND IMPORTING DATA"
      ]
    },
    {
      "metadata": {
        "id": "wWufoGzescRZ",
        "colab_type": "text"
      },
      "cell_type": "markdown",
      "source": [
        "Check GPU and import relevant libraries."
      ]
    },
    {
      "metadata": {
        "id": "w2nEHLiO3fBS",
        "colab_type": "code",
        "outputId": "fd16b190-5523-4d4c-fbf6-484958cbd7f8",
        "colab": {
          "base_uri": "https://localhost:8080/",
          "height": 102
        }
      },
      "cell_type": "code",
      "source": [
        "!ln -sf /opt/bin/nvidia-smi /usr/bin/nvidia-smi\n",
        "!pip install gputil\n",
        "!pip install psutil\n",
        "!pip install humanize\n",
        "import psutil\n",
        "import humanize\n",
        "import os\n",
        "import GPUtil as GPU\n",
        "GPUs = GPU.getGPUs()\n",
        "# Colab only provides one GPU and it is not always guaranteed\n",
        "gpu = GPUs[0]\n",
        "def printm():\n",
        "  process = psutil.Process(os.getpid())\n",
        "  print(\"RAM Free: \" + humanize.naturalsize( psutil.virtual_memory().available ), \" | Proc size: \" + humanize.naturalsize( process.memory_info().rss))\n",
        "  print(\"GPU RAM Free: {0:.0f}MB | Used: {1:.0f}MB | Util {2:3.0f}% | Total {3:.0f}MB\".format(gpu.memoryFree, gpu.memoryUsed, gpu.memoryUtil*100, gpu.memoryTotal))\n",
        "  \n",
        "printm()\n",
        "\n",
        "import sys\n",
        "import json\n",
        "import os\n",
        "import glob\n",
        "import time\n",
        "import tensorflow as tf\n",
        "import numpy as np\n",
        "import cv2\n",
        "import random\n",
        "\n",
        "import keras\n",
        "from keras import backend as K\n",
        "from keras.models import Sequential, Model\n",
        "from keras.layers import Dense, Dropout, Activation, Flatten, Input, Lambda, Reshape\n",
        "from keras.layers import Conv2D, MaxPooling2D, BatchNormalization \n",
        "from keras.layers import Input, UpSampling2D, concatenate  \n",
        "\n",
        "from read_data import HPatches, DataGeneratorDesc, hpatches_sequence_folder, DenoiseHPatches, tps\n",
        "from utils import generate_desc_csv, plot_denoise, plot_triplet\n",
        "\n",
        "random.seed(1234)\n",
        "np.random.seed(1234)\n",
        "tf.set_random_seed(1234)\n"
      ],
      "execution_count": 5,
      "outputs": [
        {
          "output_type": "stream",
          "text": [
            "Requirement already satisfied: gputil in /usr/local/lib/python2.7/dist-packages (1.4.0)\n",
            "Requirement already satisfied: psutil in /usr/local/lib/python2.7/dist-packages (5.4.8)\n",
            "Requirement already satisfied: humanize in /usr/local/lib/python2.7/dist-packages (0.5.1)\n",
            "('RAM Free: 12.8 GB', ' | Proc size: 339.4 MB')\n",
            "GPU RAM Free: 11441MB | Used: 0MB | Util   0% | Total 11441MB\n"
          ],
          "name": "stdout"
        }
      ]
    },
    {
      "metadata": {
        "id": "mTvMqzK-VmI3",
        "colab_type": "text"
      },
      "cell_type": "markdown",
      "source": [
        "Importing the data."
      ]
    },
    {
      "metadata": {
        "id": "WqG7C8IDU4no",
        "colab_type": "code",
        "colab": {
          "base_uri": "https://localhost:8080/",
          "height": 513
        },
        "outputId": "d6c39749-814b-4e79-e23d-911e81150285"
      },
      "cell_type": "code",
      "source": [
        "!git clone https://github.com/MatchLab-Imperial/keras_triplet_descriptor\n",
        "  \n",
        "%cd /content/keras_triplet_descriptor  \n",
        "\n",
        "!wget -O hpatches_data.zip https://imperialcollegelondon.box.com/shared/static/ah40eq7cxpwq4a6l4f62efzdyt8rm3ha.zip\n",
        "  \n",
        "!unzip -q ./hpatches_data.zip\n",
        "!rm ./hpatches_data.zip\n",
        "\n",
        "hpatches_dir = './hpatches'\n",
        "splits_path = './splits.json'\n",
        "\n",
        "splits_json = json.load(open(splits_path, 'rb'))\n",
        "split = splits_json['a']\n",
        "\n",
        "train_fnames = split['train']\n",
        "test_fnames = split['test']\n",
        "\n",
        "seqs = glob.glob(hpatches_dir+'/*')\n",
        "seqs = [os.path.abspath(p) for p in seqs]   \n",
        "seqs_train = list(filter(lambda x: x.split('/')[-1] in train_fnames, seqs)) \n",
        "seqs_test = list(filter(lambda x: x.split('/')[-1] in split['test'], seqs))"
      ],
      "execution_count": 6,
      "outputs": [
        {
          "output_type": "stream",
          "text": [
            "fatal: destination path 'keras_triplet_descriptor' already exists and is not an empty directory.\n",
            "/content/keras_triplet_descriptor\n",
            "--2019-03-04 20:21:36--  https://imperialcollegelondon.box.com/shared/static/ah40eq7cxpwq4a6l4f62efzdyt8rm3ha.zip\n",
            "Resolving imperialcollegelondon.box.com (imperialcollegelondon.box.com)... 107.152.27.197\n",
            "Connecting to imperialcollegelondon.box.com (imperialcollegelondon.box.com)|107.152.27.197|:443... connected.\n",
            "HTTP request sent, awaiting response... 301 Moved Permanently\n",
            "Location: /public/static/ah40eq7cxpwq4a6l4f62efzdyt8rm3ha.zip [following]\n",
            "--2019-03-04 20:21:36--  https://imperialcollegelondon.box.com/public/static/ah40eq7cxpwq4a6l4f62efzdyt8rm3ha.zip\n",
            "Reusing existing connection to imperialcollegelondon.box.com:443.\n",
            "HTTP request sent, awaiting response... 301 Moved Permanently\n",
            "Location: https://imperialcollegelondon.app.box.com/public/static/ah40eq7cxpwq4a6l4f62efzdyt8rm3ha.zip [following]\n",
            "--2019-03-04 20:21:36--  https://imperialcollegelondon.app.box.com/public/static/ah40eq7cxpwq4a6l4f62efzdyt8rm3ha.zip\n",
            "Resolving imperialcollegelondon.app.box.com (imperialcollegelondon.app.box.com)... 107.152.24.199, 107.152.25.199\n",
            "Connecting to imperialcollegelondon.app.box.com (imperialcollegelondon.app.box.com)|107.152.24.199|:443... connected.\n",
            "HTTP request sent, awaiting response... 302 Found\n",
            "Location: https://public.boxcloud.com/d/1/b1!ODYSoeTGDlyjxe60BwyncqPoEmxgMScgxDY0kg7whNL1H9zRbBOx_Ut3gxfNeErpKy4cS_tnMVAd-9YJDFN-9QyR3JC1QzGq10YE0E-MfcZUSzOiDedhMikLQNwu_AVkA_S_c1fBW99Ryxg6zOsDDKJdmgUnSQZF8UWR0DkqvxrTf65Uy5KAO3TtKQ64K_2T00vDpeO8i39qPd_ORUwBIPRbv4BGE120oOL8LA3OCsZrqQRYvOXPfirz9xDsuqQj__ZUktQVrKyYwiCoZ_k6n7jWUenqHbTrV1tr6ZefWdWnYt-FoJeGO4VMhtXXoJo3h3CDPvYzx8mAFz1aNa880mJw4mnkjqyzsWRwTLtvro9oqw-gAfa5X2MIZ7Vdv2lGu-dzbAB_yBlYZoGW74gEHoar8z_9FqRDt7bm9k2NSZghXbYLBRLyYxZ7hH2l8tLhahqFTIIsIAcvoL1EgD0UFFRBGOSDDBiS8UEOLJJw9nm-ZcJIiC4F7QYzaN-P_t0rjEWOJaBfIXMUgbib6f8ylqbF4_vm3TwZXxi1TEQp5-woFGVnn_hOAdkkOSCPUxGum6oEar_HzZBxKic1Zspihgq0EB_fLW3LcQrQqSfSmL1HmLyqZayKLUDf2ulzYNtOC_RRLNCWsAvXBXS6-1hRnmzilra2gwoPZF0BzRWWMIMAkSbfJia4F7VzrIqgE5Nu4T4StE_LJc_ueXeLJSCFZPZ6GLRcbAT511taOjHAUukd6qWT-4xbILJgbiGzArjfPOJpzG6s7psvgUbmALvbrxAffuw8EymNnrh707N6ClWdXOCYfh7ZU64HFV4sPymGqEHNXXXWeJ1ymMNKJR2k4AXO8uPRuTnYdiD80qWg6Uak1940WzqfotyOsAPHw0UQG3ivnsdeWC9e-tlawNSb-aVOjmz1C0BJMYA5EVGOsvFHEqyGEwarlKF4YfdZSfD21ac1uDyAgRrB2puzAQfTgRYbSb_J6RhKPkEIxRbFd3V6gCeQeBCegwOHga4l5Cuk3R2duWJqQkvJ3vXCohEpDOgRyIvgc_DCsvMUoCIjrycBc_OYo2rpR1Y8OeE4d60qerbeFOW_s8ojQRHjhu8CAvMcw_tnyisU758y41iXCO__ZowbciB0AGLmFXKEJREEyKNM9dtoMD7umFrXZe4rzx_PebPqSlPoOI1Ir-OxuAW5Se0mlZHzJedphE2U8MMZrW4-WXp_PdyWNY15AbyjiPZuRRCtFZ2gMzQBogHYgml7_q_8kpBIMdMlU7ymnhaYEG8ZAhEtxQMJlYjmmLtiW9cr2jR44Kb1P9I3FOuOg6VXaa9oa3ZzLyvV83OfPLL4hM1jWnIwXDdQfviFg3c9ccgMD23tnqTuNlWNjXFg4o_ms4qY3XM6dhmEOLLPp5f2BsnBHn-Q8dh4ZmbY4b_QhYnDbY0m_IyvSs9MUcQTBP5GfDd2laHu/download [following]\n",
            "--2019-03-04 20:21:37--  https://public.boxcloud.com/d/1/b1!ODYSoeTGDlyjxe60BwyncqPoEmxgMScgxDY0kg7whNL1H9zRbBOx_Ut3gxfNeErpKy4cS_tnMVAd-9YJDFN-9QyR3JC1QzGq10YE0E-MfcZUSzOiDedhMikLQNwu_AVkA_S_c1fBW99Ryxg6zOsDDKJdmgUnSQZF8UWR0DkqvxrTf65Uy5KAO3TtKQ64K_2T00vDpeO8i39qPd_ORUwBIPRbv4BGE120oOL8LA3OCsZrqQRYvOXPfirz9xDsuqQj__ZUktQVrKyYwiCoZ_k6n7jWUenqHbTrV1tr6ZefWdWnYt-FoJeGO4VMhtXXoJo3h3CDPvYzx8mAFz1aNa880mJw4mnkjqyzsWRwTLtvro9oqw-gAfa5X2MIZ7Vdv2lGu-dzbAB_yBlYZoGW74gEHoar8z_9FqRDt7bm9k2NSZghXbYLBRLyYxZ7hH2l8tLhahqFTIIsIAcvoL1EgD0UFFRBGOSDDBiS8UEOLJJw9nm-ZcJIiC4F7QYzaN-P_t0rjEWOJaBfIXMUgbib6f8ylqbF4_vm3TwZXxi1TEQp5-woFGVnn_hOAdkkOSCPUxGum6oEar_HzZBxKic1Zspihgq0EB_fLW3LcQrQqSfSmL1HmLyqZayKLUDf2ulzYNtOC_RRLNCWsAvXBXS6-1hRnmzilra2gwoPZF0BzRWWMIMAkSbfJia4F7VzrIqgE5Nu4T4StE_LJc_ueXeLJSCFZPZ6GLRcbAT511taOjHAUukd6qWT-4xbILJgbiGzArjfPOJpzG6s7psvgUbmALvbrxAffuw8EymNnrh707N6ClWdXOCYfh7ZU64HFV4sPymGqEHNXXXWeJ1ymMNKJR2k4AXO8uPRuTnYdiD80qWg6Uak1940WzqfotyOsAPHw0UQG3ivnsdeWC9e-tlawNSb-aVOjmz1C0BJMYA5EVGOsvFHEqyGEwarlKF4YfdZSfD21ac1uDyAgRrB2puzAQfTgRYbSb_J6RhKPkEIxRbFd3V6gCeQeBCegwOHga4l5Cuk3R2duWJqQkvJ3vXCohEpDOgRyIvgc_DCsvMUoCIjrycBc_OYo2rpR1Y8OeE4d60qerbeFOW_s8ojQRHjhu8CAvMcw_tnyisU758y41iXCO__ZowbciB0AGLmFXKEJREEyKNM9dtoMD7umFrXZe4rzx_PebPqSlPoOI1Ir-OxuAW5Se0mlZHzJedphE2U8MMZrW4-WXp_PdyWNY15AbyjiPZuRRCtFZ2gMzQBogHYgml7_q_8kpBIMdMlU7ymnhaYEG8ZAhEtxQMJlYjmmLtiW9cr2jR44Kb1P9I3FOuOg6VXaa9oa3ZzLyvV83OfPLL4hM1jWnIwXDdQfviFg3c9ccgMD23tnqTuNlWNjXFg4o_ms4qY3XM6dhmEOLLPp5f2BsnBHn-Q8dh4ZmbY4b_QhYnDbY0m_IyvSs9MUcQTBP5GfDd2laHu/download\n",
            "Resolving public.boxcloud.com (public.boxcloud.com)... 107.152.27.200\n",
            "Connecting to public.boxcloud.com (public.boxcloud.com)|107.152.27.200|:443... connected.\n",
            "HTTP request sent, awaiting response... 200 OK\n",
            "Length: 4088106554 (3.8G) [application/zip]\n",
            "Saving to: ‘hpatches_data.zip’\n",
            "\n",
            "hpatches_data.zip   100%[===================>]   3.81G  20.5MB/s    in 4m 2s   \n",
            "\n",
            "2019-03-04 20:25:39 (16.1 MB/s) - ‘hpatches_data.zip’ saved [4088106554/4088106554]\n",
            "\n",
            "replace hpatches/v_man/e3.anisjitter? [y]es, [n]o, [A]ll, [N]one, [r]ename: A\n"
          ],
          "name": "stdout"
        }
      ]
    },
    {
      "metadata": {
        "id": "GG6pcI_xuOAd",
        "colab_type": "code",
        "colab": {}
      },
      "cell_type": "code",
      "source": [
        "denoise_generator = DenoiseHPatches(random.sample(seqs_train, 3), batch_size=50)\n",
        "denoise_generator_val = DenoiseHPatches(random.sample(seqs_test, 1), batch_size=50)\n",
        "\n",
        "#denoise_generator = DenoiseHPatches(seqs_train, batch_size=50)\n",
        "#denoise_generator_val = DenoiseHPatches(seqs_test, batch_size=50)"
      ],
      "execution_count": 0,
      "outputs": []
    },
    {
      "metadata": {
        "id": "SUAW8VC14LsG",
        "colab_type": "text"
      },
      "cell_type": "markdown",
      "source": [
        "### TESTING THE BASELINE CODE"
      ]
    },
    {
      "metadata": {
        "id": "IMz1k0Ob4KsN",
        "colab_type": "code",
        "colab": {}
      },
      "cell_type": "code",
      "source": [
        "def get_denoise_model_baseline(shape):\n",
        "    \n",
        "  inputs = Input(shape)\n",
        "  \n",
        "  ## Encoder starts\n",
        "  conv1 = Conv2D(16, 3, activation = 'relu', padding = 'same', kernel_initializer = 'he_normal')(inputs)\n",
        "  pool1 = MaxPooling2D(pool_size=(2, 2))(conv1)\n",
        "  \n",
        "  ## Bottleneck\n",
        "  conv2 = Conv2D(32, 3, activation = 'relu', padding = 'same', kernel_initializer = 'he_normal')(pool1)\n",
        "\n",
        "  ## Now the decoder starts\n",
        "  up3 = Conv2D(64, 2, activation = 'relu', padding = 'same', kernel_initializer = 'he_normal')(UpSampling2D(size = (2,2))(conv2))\n",
        "  merge3 = concatenate([conv1,up3], axis = -1)\n",
        "  conv3 = Conv2D(64, 3, activation = 'relu', padding = 'same', kernel_initializer = 'he_normal')(merge3)\n",
        "    \n",
        "  conv4 = Conv2D(1, 3,  padding = 'same')(conv3)\n",
        "\n",
        "  shallow_net = Model(inputs = inputs, outputs = conv4)\n",
        "  \n",
        "  return shallow_net"
      ],
      "execution_count": 0,
      "outputs": []
    },
    {
      "metadata": {
        "id": "QNXMlfv7V__v",
        "colab_type": "text"
      },
      "cell_type": "markdown",
      "source": [
        "Defining the model and the loss for the descriptor network.\n",
        "\n",
        "*get_descriptor_model* is only defined for one branch, but the whole model actually has three branches."
      ]
    },
    {
      "metadata": {
        "id": "KKVPTVVJV6XR",
        "colab_type": "code",
        "colab": {}
      },
      "cell_type": "code",
      "source": [
        "def get_descriptor_model_baseline(shape):\n",
        "  \n",
        "  '''Architecture copies HardNet architecture'''\n",
        "  \n",
        "  init_weights = keras.initializers.he_normal()\n",
        "  \n",
        "  descriptor_model = Sequential()\n",
        "  descriptor_model.add(Conv2D(32, 3, padding='same', input_shape=shape, use_bias = True, kernel_initializer=init_weights))\n",
        "  descriptor_model.add(BatchNormalization(axis = -1))\n",
        "  descriptor_model.add(Activation('relu'))\n",
        "\n",
        "  descriptor_model.add(Conv2D(32, 3, padding='same', use_bias = True, kernel_initializer=init_weights))\n",
        "  descriptor_model.add(BatchNormalization(axis = -1))\n",
        "  descriptor_model.add(Activation('relu'))\n",
        "\n",
        "  descriptor_model.add(Conv2D(64, 3, padding='same', strides=2, use_bias = True, kernel_initializer=init_weights))\n",
        "  descriptor_model.add(BatchNormalization(axis = -1))\n",
        "  descriptor_model.add(Activation('relu'))\n",
        "\n",
        "  descriptor_model.add(Conv2D(64, 3, padding='same', use_bias = True, kernel_initializer=init_weights))\n",
        "  descriptor_model.add(BatchNormalization(axis = -1))\n",
        "  descriptor_model.add(Activation('relu'))\n",
        "\n",
        "  descriptor_model.add(Conv2D(128, 3, padding='same', strides=2,  use_bias = True, kernel_initializer=init_weights))\n",
        "  descriptor_model.add(BatchNormalization(axis = -1))\n",
        "  descriptor_model.add(Activation('relu'))\n",
        "\n",
        "  descriptor_model.add(Conv2D(128, 3, padding='same', use_bias = True, kernel_initializer=init_weights))\n",
        "  descriptor_model.add(BatchNormalization(axis = -1))\n",
        "  descriptor_model.add(Activation('relu'))\n",
        "  descriptor_model.add(Dropout(0.3))\n",
        "\n",
        "  descriptor_model.add(Conv2D(128, 8, padding='valid', use_bias = True, kernel_initializer=init_weights))\n",
        "  \n",
        "  descriptor_model.add(Reshape((128,)))\n",
        "  \n",
        "  return descriptor_model\n",
        "\n",
        "def triplet_loss_baseline(x):\n",
        "  \n",
        "  output_dim = 128\n",
        "  a, p, n = x\n",
        "  _alpha = 1.0\n",
        "  positive_distance = K.mean(K.square(a - p), axis=-1)\n",
        "  negative_distance = K.mean(K.square(a - n), axis=-1)\n",
        "  \n",
        "  return K.expand_dims(K.maximum(0.0, positive_distance - negative_distance + _alpha), axis = 1)"
      ],
      "execution_count": 0,
      "outputs": []
    },
    {
      "metadata": {
        "id": "5izZWTpKkMLO",
        "colab_type": "text"
      },
      "cell_type": "markdown",
      "source": [
        "Compiling the model with all the relevant hyperparameters.\n",
        "\n",
        "Deleting all previous models before compiling the new one."
      ]
    },
    {
      "metadata": {
        "id": "-BHsJysw4snx",
        "colab_type": "code",
        "colab": {}
      },
      "cell_type": "code",
      "source": [
        "try: del denoise_model_baseline_baseline except: print(\"The model has not been initialized. Compiling...\")\n",
        "\n",
        "shape = (32, 32, 1)\n",
        "denoise_model_baseline = get_denoise_model_baseline(shape)\n",
        "\n",
        "sgd = keras.optimizers.SGD(lr=0.00001, momentum=0.9, nesterov=True)\n",
        "denoise_model_baseline.compile(loss='mean_absolute_error', optimizer=sgd, metrics=['mae'])"
      ],
      "execution_count": 0,
      "outputs": []
    },
    {
      "metadata": {
        "id": "QlXzm7M_Zyxd",
        "colab_type": "text"
      },
      "cell_type": "markdown",
      "source": [
        "Training the model."
      ]
    },
    {
      "metadata": {
        "id": "91TZsXzbZmVc",
        "colab_type": "code",
        "colab": {
          "base_uri": "https://localhost:8080/",
          "height": 428
        },
        "outputId": "2a20f15b-bfe8-45be-9c86-618d98bc8a2f"
      },
      "cell_type": "code",
      "source": [
        "denoise_history_baseline = denoise_model_baseline.fit_generator(generator=denoise_generator, epochs=10, verbose=1, validation_data=denoise_generator_val)"
      ],
      "execution_count": 10,
      "outputs": [
        {
          "output_type": "stream",
          "text": [
            "WARNING:tensorflow:From /usr/local/lib/python2.7/dist-packages/tensorflow/python/ops/math_ops.py:3066: to_int32 (from tensorflow.python.ops.math_ops) is deprecated and will be removed in a future version.\n",
            "Instructions for updating:\n",
            "Use tf.cast instead.\n",
            "Epoch 1/10\n",
            "1436/1436 [==============================] - 40s 28ms/step - loss: 8.5351 - mean_absolute_error: 8.5351 - val_loss: 5.5909 - val_mean_absolute_error: 5.5909\n",
            "Epoch 2/10\n",
            "1436/1436 [==============================] - 35s 25ms/step - loss: 6.5198 - mean_absolute_error: 6.5198 - val_loss: 5.3035 - val_mean_absolute_error: 5.3035\n",
            "Epoch 3/10\n",
            "1436/1436 [==============================] - 35s 25ms/step - loss: 6.2462 - mean_absolute_error: 6.2462 - val_loss: 5.4707 - val_mean_absolute_error: 5.4707\n",
            "Epoch 4/10\n",
            "1436/1436 [==============================] - 36s 25ms/step - loss: 6.1014 - mean_absolute_error: 6.1014 - val_loss: 5.1170 - val_mean_absolute_error: 5.1170\n",
            "Epoch 5/10\n",
            "1436/1436 [==============================] - 35s 25ms/step - loss: 6.0147 - mean_absolute_error: 6.0147 - val_loss: 4.9112 - val_mean_absolute_error: 4.9112\n",
            "Epoch 6/10\n",
            "1436/1436 [==============================] - 36s 25ms/step - loss: 5.9624 - mean_absolute_error: 5.9624 - val_loss: 4.9175 - val_mean_absolute_error: 4.9175\n",
            "Epoch 7/10\n",
            "1436/1436 [==============================] - 36s 25ms/step - loss: 5.9097 - mean_absolute_error: 5.9097 - val_loss: 5.1580 - val_mean_absolute_error: 5.1580\n",
            "Epoch 8/10\n",
            "1436/1436 [==============================] - 36s 25ms/step - loss: 5.8890 - mean_absolute_error: 5.8890 - val_loss: 4.8075 - val_mean_absolute_error: 4.8075\n",
            "Epoch 9/10\n",
            "1436/1436 [==============================] - 36s 25ms/step - loss: 5.8468 - mean_absolute_error: 5.8468 - val_loss: 4.7686 - val_mean_absolute_error: 4.7686\n",
            "Epoch 10/10\n",
            "1436/1436 [==============================] - 36s 25ms/step - loss: 5.8014 - mean_absolute_error: 5.8014 - val_loss: 4.7532 - val_mean_absolute_error: 4.7532\n"
          ],
          "name": "stdout"
        }
      ]
    },
    {
      "metadata": {
        "id": "jQ5uaHr744y2",
        "colab_type": "text"
      },
      "cell_type": "markdown",
      "source": [
        "De-noising model *training* curves.\n",
        "\n",
        "Show the possible keys to the history of the model."
      ]
    },
    {
      "metadata": {
        "id": "5GWgwzNacLzL",
        "colab_type": "code",
        "colab": {
          "base_uri": "https://localhost:8080/",
          "height": 34
        },
        "outputId": "e848733c-e3f6-4b40-f332-f059d474f234"
      },
      "cell_type": "code",
      "source": [
        "print(denoise_history_baseline.history.keys())"
      ],
      "execution_count": 11,
      "outputs": [
        {
          "output_type": "stream",
          "text": [
            "['val_mean_absolute_error', 'loss', 'mean_absolute_error', 'val_loss']\n"
          ],
          "name": "stdout"
        }
      ]
    },
    {
      "metadata": {
        "id": "b6_-5t6u43CH",
        "colab_type": "code",
        "outputId": "abcf9294-f1df-4c96-b4be-7f4361613e02",
        "colab": {
          "base_uri": "https://localhost:8080/",
          "height": 393
        }
      },
      "cell_type": "code",
      "source": [
        "import matplotlib.pyplot as plt\n",
        "\n",
        "fig, axes = plt.subplots(2,1)\n",
        "axes[0].plot(denoise_history_baseline.history['mean_absolute_error'], 'r')\n",
        "axes[0].set_title('De-noise Model Training Loss')\n",
        "axes[0].set_ylabel('Mean Average Error (%)')\n",
        "axes[0].set_xlabel('Number of epochs')\n",
        "\n",
        "fig.subplots_adjust(hspace=0.5)\n",
        "\n",
        "axes[1].plot(denoise_history_baseline.history['val_mean_absolute_error'], 'g')\n",
        "axes[1].set_title('De-noise Model Validation Loss')\n",
        "axes[1].set_ylabel('Mean Average Error (%)')\n",
        "axes[1].set_xlabel('Number of epochs')"
      ],
      "execution_count": 15,
      "outputs": [
        {
          "output_type": "execute_result",
          "data": {
            "text/plain": [
              "Text(0.5,0,'Number of epochs')"
            ]
          },
          "metadata": {
            "tags": []
          },
          "execution_count": 15
        },
        {
          "output_type": "display_data",
          "data": {
            "image/png": "[encoded data removed]",
            "text/plain": [
              "<Figure size 576x396 with 2 Axes>"
            ]
          },
          "metadata": {
            "tags": []
          }
        }
      ]
    },
    {
      "metadata": {
        "id": "0xZ7WFxrHms2",
        "colab_type": "text"
      },
      "cell_type": "markdown",
      "source": [
        "Denoising the data from before."
      ]
    },
    {
      "metadata": {
        "id": "cCY1WpFLFExL",
        "colab_type": "code",
        "outputId": "81ca3260-d164-420f-8a16-f71b609b0e5c",
        "colab": {
          "base_uri": "https://localhost:8080/",
          "height": 187
        }
      },
      "cell_type": "code",
      "source": [
        "### Descriptor loading and training\n",
        "# Loading images\n",
        "hPatches = HPatches(train_fnames=train_fnames, test_fnames=test_fnames, denoise_model=denoise_model, use_clean=False)\n",
        "# Creating training generator\n",
        "training_generator = DataGeneratorDesc(*hPatches.read_image_file(hpatches_dir, train=1), num_triplets=100000)\n",
        "# Creating validation generator\n",
        "val_generator = DataGeneratorDesc(*hPatches.read_image_file(hpatches_dir, train=0), num_triplets=10000)"
      ],
      "execution_count": 14,
      "outputs": [
        {
          "output_type": "stream",
          "text": [
            "Using denoised patches\n",
            "100%|██████████| 116/116 [00:32<00:00,  2.55it/s]\n",
            "Denoising patches...\n",
            "100%|██████████| 15589/15589 [04:01<00:00, 64.64it/s]\n"
          ],
          "name": "stdout"
        },
        {
          "output_type": "stream",
          "text": [
            "100%|██████████| 100000/100000 [00:01<00:00, 79036.96it/s]\n"
          ],
          "name": "stderr"
        },
        {
          "output_type": "stream",
          "text": [
            "Using denoised patches\n",
            "100%|██████████| 116/116 [00:19<00:00,  6.09it/s]\n",
            "Denoising patches...\n",
            "100%|██████████| 9525/9525 [02:27<00:00, 64.65it/s]\n"
          ],
          "name": "stdout"
        },
        {
          "output_type": "stream",
          "text": [
            "100%|██████████| 10000/10000 [00:00<00:00, 85963.12it/s]\n"
          ],
          "name": "stderr"
        }
      ]
    },
    {
      "metadata": {
        "id": "OQkFRjTaHjBM",
        "colab_type": "text"
      },
      "cell_type": "markdown",
      "source": [
        "Compiling our model with all the hyperparameters."
      ]
    },
    {
      "metadata": {
        "id": "Is6jjvjfHfTl",
        "colab_type": "code",
        "outputId": "48cd47a7-759a-49ac-f026-9fa274c5f951",
        "colab": {
          "base_uri": "https://localhost:8080/",
          "height": 768
        }
      },
      "cell_type": "code",
      "source": [
        "from keras.layers import Lambda\n",
        "\n",
        "try: del descriptor_model except: print(\"The model has not been initialized. Compiling...\")\n",
        "\n",
        "shape = (32, 32, 1)\n",
        "xa = Input(shape=shape, name='a')\n",
        "xp = Input(shape=shape, name='p')\n",
        "xn = Input(shape=shape, name='n')\n",
        "descriptor_model = get_descriptor_model(shape)\n",
        "ea = descriptor_model(xa)\n",
        "ep = descriptor_model(xp)\n",
        "en = descriptor_model(xn)\n",
        "\n",
        "loss = Lambda(triplet_loss)([ea, ep, en])\n",
        "\n",
        "descriptor_model = Model(inputs=[xa, xp, xn], outputs=loss)\n",
        "\n",
        "sgd = keras.optimizers.SGD(lr=0.1)\n",
        "descriptor_model.compile(loss='mean_absolute_error', optimizer=sgd)\n"
      ],
      "execution_count": 17,
      "outputs": [
        {
          "output_type": "stream",
          "text": [
            "WARNING:tensorflow:From /usr/local/lib/python2.7/dist-packages/keras/backend/tensorflow_backend.py:3445: calling dropout (from tensorflow.python.ops.nn_ops) with keep_prob is deprecated and will be removed in a future version.\n",
            "Instructions for updating:\n",
            "Please use `rate` instead of `keep_prob`. Rate should be set to `rate = 1 - keep_prob`.\n",
            "Epoch 1/10\n",
            "1999/2000 [============================>.] - ETA: 0s - loss: 0.2157"
          ],
          "name": "stdout"
        },
        {
          "output_type": "stream",
          "text": [
            "100%|██████████| 100000/100000 [00:03<00:00, 27814.66it/s]\n"
          ],
          "name": "stderr"
        },
        {
          "output_type": "stream",
          "text": [
            "2000/2000 [==============================] - 160s 80ms/step - loss: 0.2157 - val_loss: 0.2304\n",
            "Epoch 2/10\n",
            "  10/2000 [..............................] - ETA: 2:54 - loss: 0.2048"
          ],
          "name": "stdout"
        },
        {
          "output_type": "stream",
          "text": [
            "\r  0%|          | 0/10000 [00:00<?, ?it/s]"
          ],
          "name": "stderr"
        },
        {
          "output_type": "stream",
          "text": [
            "\b\b\b\b\b\b\b\b\b\b\b\b\b\b\b\b\b\b\b\b\b\b\b\b\b\b\b\b\b\b\b\b\b\b\b\b\b\b\b\b\b\b\b\b\b\b\b\b\b\b\b\b\b\b\b\b\b\b\b\b\b\b\b\b\b\b\b\b\b\r  11/2000 [..............................] - ETA: 2:52 - loss: 0.1969"
          ],
          "name": "stdout"
        },
        {
          "output_type": "stream",
          "text": [
            "\r 36%|███▌      | 3611/10000 [00:00<00:00, 36106.76it/s]"
          ],
          "name": "stderr"
        },
        {
          "output_type": "stream",
          "text": [
            "  13/2000 [..............................] - ETA: 2:51 - loss: 0.1996"
          ],
          "name": "stdout"
        },
        {
          "output_type": "stream",
          "text": [
            "\r 70%|███████   | 7029/10000 [00:00<00:00, 35412.07it/s]"
          ],
          "name": "stderr"
        },
        {
          "output_type": "stream",
          "text": [
            "\b\b\b\b\b\b\b\b\b\b\b\b\b\b\b\b\b\b\b\b\b\b\b\b\b\b\b\b\b\b\b\b\b\b\b\b\b\b\b\b\b\b\b\b\b\b\b\b\b\b\b\b\b\b\b\b\b\b\b\b\b\b\b\b\b\b\b\b\b\r  14/2000 [..............................] - ETA: 2:49 - loss: 0.1940"
          ],
          "name": "stdout"
        },
        {
          "output_type": "stream",
          "text": [
            "\r100%|██████████| 10000/10000 [00:00<00:00, 35937.74it/s]\n"
          ],
          "name": "stderr"
        },
        {
          "output_type": "stream",
          "text": [
            "1999/2000 [============================>.] - ETA: 0s - loss: 0.1614"
          ],
          "name": "stdout"
        },
        {
          "output_type": "stream",
          "text": [
            " 91%|█████████ | 90821/100000 [00:03<00:00, 34819.03it/s]"
          ],
          "name": "stderr"
        },
        {
          "output_type": "stream",
          "text": [
            "\b\b\b\b\b\b\b\b\b\b\b\b\b\b\b\b\b\b\b\b\b\b\b\b\b\b\b\b\b\b\b\b\b\b\b\b\b\b\b\b\b\b\b\b\b\b\b\b\b\b\b\b\b\b\b\b\b\b\b\b\b\b\b\b\b\b\b\r2000/2000 [==============================] - 158s 79ms/step - loss: 0.1614 - val_loss: 0.2032\n"
          ],
          "name": "stdout"
        },
        {
          "output_type": "stream",
          "text": [
            "\r 96%|█████████▌| 96169/100000 [00:03<00:00, 37229.23it/s]"
          ],
          "name": "stderr"
        },
        {
          "output_type": "stream",
          "text": [
            "Epoch 3/10\n"
          ],
          "name": "stdout"
        },
        {
          "output_type": "stream",
          "text": [
            "\r100%|██████████| 100000/100000 [00:03<00:00, 26809.37it/s]\n"
          ],
          "name": "stderr"
        },
        {
          "output_type": "stream",
          "text": [
            "   8/2000 [..............................] - ETA: 5:44 - loss: 0.1654"
          ],
          "name": "stdout"
        },
        {
          "output_type": "stream",
          "text": [
            "\r  0%|          | 0/10000 [00:00<?, ?it/s]"
          ],
          "name": "stderr"
        },
        {
          "output_type": "stream",
          "text": [
            "\b\b\b\b\b\b\b\b\b\b\b\b\b\b\b\b\b\b\b\b\b\b\b\b\b\b\b\b\b\b\b\b\b\b\b\b\b\b\b\b\b\b\b\b\b\b\b\b\b\b\b\b\b\b\b\b\b\b\b\b\b\b\b\b\b\b\b\b\b\r   9/2000 [..............................] - ETA: 5:24 - loss: 0.1736"
          ],
          "name": "stdout"
        },
        {
          "output_type": "stream",
          "text": [
            "\r 44%|████▍     | 4388/10000 [00:00<00:00, 43876.07it/s]"
          ],
          "name": "stderr"
        },
        {
          "output_type": "stream",
          "text": [
            "  11/2000 [..............................] - ETA: 4:54 - loss: 0.1840"
          ],
          "name": "stdout"
        },
        {
          "output_type": "stream",
          "text": [
            "100%|██████████| 10000/10000 [00:00<00:00, 36940.71it/s]\n"
          ],
          "name": "stderr"
        },
        {
          "output_type": "stream",
          "text": [
            "1999/2000 [============================>.] - ETA: 0s - loss: 0.1461"
          ],
          "name": "stdout"
        },
        {
          "output_type": "stream",
          "text": [
            " 90%|█████████ | 90070/100000 [00:03<00:00, 34838.53it/s]"
          ],
          "name": "stderr"
        },
        {
          "output_type": "stream",
          "text": [
            "\b\b\b\b\b\b\b\b\b\b\b\b\b\b\b\b\b\b\b\b\b\b\b\b\b\b\b\b\b\b\b\b\b\b\b\b\b\b\b\b\b\b\b\b\b\b\b\b\b\b\b\b\b\b\b\b\b\b\b\b\b\b\b\b\b\b\b\r2000/2000 [==============================] - 158s 79ms/step - loss: 0.1461 - val_loss: 0.1717\n"
          ],
          "name": "stdout"
        },
        {
          "output_type": "stream",
          "text": [
            "\r 94%|█████████▎| 93726/100000 [00:03<00:00, 35334.61it/s]"
          ],
          "name": "stderr"
        },
        {
          "output_type": "stream",
          "text": [
            "Epoch 4/10\n"
          ],
          "name": "stdout"
        },
        {
          "output_type": "stream",
          "text": [
            "100%|██████████| 100000/100000 [00:03<00:00, 25425.18it/s]\n"
          ],
          "name": "stderr"
        },
        {
          "output_type": "stream",
          "text": [
            "   6/2000 [..............................] - ETA: 7:59 - loss: 0.1521"
          ],
          "name": "stdout"
        },
        {
          "output_type": "stream",
          "text": [
            "\r  0%|          | 0/10000 [00:00<?, ?it/s]"
          ],
          "name": "stderr"
        },
        {
          "output_type": "stream",
          "text": [
            "\b\b\b\b\b\b\b\b\b\b\b\b\b\b\b\b\b\b\b\b\b\b\b\b\b\b\b\b\b\b\b\b\b\b\b\b\b\b\b\b\b\b\b\b\b\b\b\b\b\b\b\b\b\b\b\b\b\b\b\b\b\b\b\b\b\b\b\b\b\r   7/2000 [..............................] - ETA: 7:11 - loss: 0.1359"
          ],
          "name": "stdout"
        },
        {
          "output_type": "stream",
          "text": [
            "\r 42%|████▏     | 4182/10000 [00:00<00:00, 41814.96it/s]"
          ],
          "name": "stderr"
        },
        {
          "output_type": "stream",
          "text": [
            "   9/2000 [..............................] - ETA: 6:12 - loss: 0.1433"
          ],
          "name": "stdout"
        },
        {
          "output_type": "stream",
          "text": [
            "100%|██████████| 10000/10000 [00:00<00:00, 36911.81it/s]\n"
          ],
          "name": "stderr"
        },
        {
          "output_type": "stream",
          "text": [
            "1999/2000 [============================>.] - ETA: 0s - loss: 0.1370"
          ],
          "name": "stdout"
        },
        {
          "output_type": "stream",
          "text": [
            " 96%|█████████▌| 96115/100000 [00:03<00:00, 33819.64it/s]"
          ],
          "name": "stderr"
        },
        {
          "output_type": "stream",
          "text": [
            "\b\b\b\b\b\b\b\b\b\b\b\b\b\b\b\b\b\b\b\b\b\b\b\b\b\b\b\b\b\b\b\b\b\b\b\b\b\b\b\b\b\b\b\b\b\b\b\b\b\b\b\b\b\b\b\b\b\b\b\b\b\b\b\b\b\b\b\r2000/2000 [==============================] - 159s 80ms/step - loss: 0.1369 - val_loss: 0.1831\n"
          ],
          "name": "stdout"
        },
        {
          "output_type": "stream",
          "text": [
            "\r100%|██████████| 100000/100000 [00:03<00:00, 28898.78it/s]\n"
          ],
          "name": "stderr"
        },
        {
          "output_type": "stream",
          "text": [
            "Epoch 5/10\n",
            "  10/2000 [..............................] - ETA: 3:30 - loss: 0.1359"
          ],
          "name": "stdout"
        },
        {
          "output_type": "stream",
          "text": [
            "\r  0%|          | 0/10000 [00:00<?, ?it/s]"
          ],
          "name": "stderr"
        },
        {
          "output_type": "stream",
          "text": [
            "\b\b\b\b\b\b\b\b\b\b\b\b\b\b\b\b\b\b\b\b\b\b\b\b\b\b\b\b\b\b\b\b\b\b\b\b\b\b\b\b\b\b\b\b\b\b\b\b\b\b\b\b\b\b\b\b\b\b\b\b\b\b\b\b\b\b\b\b\b\r  11/2000 [..............................] - ETA: 3:25 - loss: 0.1370"
          ],
          "name": "stdout"
        },
        {
          "output_type": "stream",
          "text": [
            "\r 45%|████▍     | 4492/10000 [00:00<00:00, 44917.26it/s]"
          ],
          "name": "stderr"
        },
        {
          "output_type": "stream",
          "text": [
            "  13/2000 [..............................] - ETA: 3:18 - loss: 0.1374"
          ],
          "name": "stdout"
        },
        {
          "output_type": "stream",
          "text": [
            "100%|██████████| 10000/10000 [00:00<00:00, 37143.93it/s]\n"
          ],
          "name": "stderr"
        },
        {
          "output_type": "stream",
          "text": [
            "1999/2000 [============================>.] - ETA: 0s - loss: 0.1314"
          ],
          "name": "stdout"
        },
        {
          "output_type": "stream",
          "text": [
            " 96%|█████████▋| 96434/100000 [00:03<00:00, 32136.53it/s]"
          ],
          "name": "stderr"
        },
        {
          "output_type": "stream",
          "text": [
            "\b\b\b\b\b\b\b\b\b\b\b\b\b\b\b\b\b\b\b\b\b\b\b\b\b\b\b\b\b\b\b\b\b\b\b\b\b\b\b\b\b\b\b\b\b\b\b\b\b\b\b\b\b\b\b\b\b\b\b\b\b\b\b\b\b\b\b\r2000/2000 [==============================] - 158s 79ms/step - loss: 0.1313 - val_loss: 0.1993\n"
          ],
          "name": "stdout"
        },
        {
          "output_type": "stream",
          "text": [
            "\r100%|██████████| 100000/100000 [00:03<00:00, 28272.28it/s]"
          ],
          "name": "stderr"
        },
        {
          "output_type": "stream",
          "text": [
            "Epoch 6/10\n"
          ],
          "name": "stdout"
        },
        {
          "output_type": "stream",
          "text": [
            "\n"
          ],
          "name": "stderr"
        },
        {
          "output_type": "stream",
          "text": [
            "   9/2000 [..............................] - ETA: 3:31 - loss: 0.0826"
          ],
          "name": "stdout"
        },
        {
          "output_type": "stream",
          "text": [
            "\r  0%|          | 0/10000 [00:00<?, ?it/s]"
          ],
          "name": "stderr"
        },
        {
          "output_type": "stream",
          "text": [
            "\b\b\b\b\b\b\b\b\b\b\b\b\b\b\b\b\b\b\b\b\b\b\b\b\b\b\b\b\b\b\b\b\b\b\b\b\b\b\b\b\b\b\b\b\b\b\b\b\b\b\b\b\b\b\b\b\b\b\b\b\b\b\b\b\b\b\b\b\b\r  10/2000 [..............................] - ETA: 3:35 - loss: 0.0848"
          ],
          "name": "stdout"
        },
        {
          "output_type": "stream",
          "text": [
            "\r 44%|████▍     | 4430/10000 [00:00<00:00, 44299.09it/s]"
          ],
          "name": "stderr"
        },
        {
          "output_type": "stream",
          "text": [
            "  12/2000 [..............................] - ETA: 3:25 - loss: 0.1004"
          ],
          "name": "stdout"
        },
        {
          "output_type": "stream",
          "text": [
            "\r 85%|████████▌ | 8531/10000 [00:00<00:00, 43256.75it/s]"
          ],
          "name": "stderr"
        },
        {
          "output_type": "stream",
          "text": [
            "\b\b\b\b\b\b\b\b\b\b\b\b\b\b\b\b\b\b\b\b\b\b\b\b\b\b\b\b\b\b\b\b\b\b\b\b\b\b\b\b\b\b\b\b\b\b\b\b\b\b\b\b\b\b\b\b\b\b\b\b\b\b\b\b\b\b\b\b\b\r  13/2000 [..............................] - ETA: 3:21 - loss: 0.1181"
          ],
          "name": "stdout"
        },
        {
          "output_type": "stream",
          "text": [
            "\r100%|██████████| 10000/10000 [00:00<00:00, 36303.16it/s]\n"
          ],
          "name": "stderr"
        },
        {
          "output_type": "stream",
          "text": [
            "1999/2000 [============================>.] - ETA: 0s - loss: 0.1263"
          ],
          "name": "stdout"
        },
        {
          "output_type": "stream",
          "text": [
            " 92%|█████████▏| 92197/100000 [00:03<00:00, 28757.55it/s]"
          ],
          "name": "stderr"
        },
        {
          "output_type": "stream",
          "text": [
            "\b\b\b\b\b\b\b\b\b\b\b\b\b\b\b\b\b\b\b\b\b\b\b\b\b\b\b\b\b\b\b\b\b\b\b\b\b\b\b\b\b\b\b\b\b\b\b\b\b\b\b\b\b\b\b\b\b\b\b\b\b\b\b\b\b\b\b\r2000/2000 [==============================] - 159s 80ms/step - loss: 0.1263 - val_loss: 0.1888\n"
          ],
          "name": "stdout"
        },
        {
          "output_type": "stream",
          "text": [
            "\r 97%|█████████▋| 96567/100000 [00:03<00:00, 31503.17it/s]"
          ],
          "name": "stderr"
        },
        {
          "output_type": "stream",
          "text": [
            "Epoch 7/10\n"
          ],
          "name": "stdout"
        },
        {
          "output_type": "stream",
          "text": [
            "\r100%|██████████| 100000/100000 [00:03<00:00, 26309.43it/s]\n"
          ],
          "name": "stderr"
        },
        {
          "output_type": "stream",
          "text": [
            "   6/2000 [..............................] - ETA: 5:52 - loss: 0.1321"
          ],
          "name": "stdout"
        },
        {
          "output_type": "stream",
          "text": [
            "\r  0%|          | 0/10000 [00:00<?, ?it/s]"
          ],
          "name": "stderr"
        },
        {
          "output_type": "stream",
          "text": [
            "\b\b\b\b\b\b\b\b\b\b\b\b\b\b\b\b\b\b\b\b\b\b\b\b\b\b\b\b\b\b\b\b\b\b\b\b\b\b\b\b\b\b\b\b\b\b\b\b\b\b\b\b\b\b\b\b\b\b\b\b\b\b\b\b\b\b\b\b\b\r   7/2000 [..............................] - ETA: 5:24 - loss: 0.1171"
          ],
          "name": "stdout"
        },
        {
          "output_type": "stream",
          "text": [
            "\r 45%|████▍     | 4496/10000 [00:00<00:00, 44959.51it/s]"
          ],
          "name": "stderr"
        },
        {
          "output_type": "stream",
          "text": [
            "   9/2000 [..............................] - ETA: 4:48 - loss: 0.1184"
          ],
          "name": "stdout"
        },
        {
          "output_type": "stream",
          "text": [
            "\r 85%|████████▍ | 8473/10000 [00:00<00:00, 43265.69it/s]"
          ],
          "name": "stderr"
        },
        {
          "output_type": "stream",
          "text": [
            "\b\b\b\b\b\b\b\b\b\b\b\b\b\b\b\b\b\b\b\b\b\b\b\b\b\b\b\b\b\b\b\b\b\b\b\b\b\b\b\b\b\b\b\b\b\b\b\b\b\b\b\b\b\b\b\b\b\b\b\b\b\b\b\b\b\b\b\b\b\r  10/2000 [..............................] - ETA: 4:35 - loss: 0.1196"
          ],
          "name": "stdout"
        },
        {
          "output_type": "stream",
          "text": [
            "\r100%|██████████| 10000/10000 [00:00<00:00, 35791.24it/s]\n"
          ],
          "name": "stderr"
        },
        {
          "output_type": "stream",
          "text": [
            "1999/2000 [============================>.] - ETA: 0s - loss: 0.1220"
          ],
          "name": "stdout"
        },
        {
          "output_type": "stream",
          "text": [
            " 93%|█████████▎| 93423/100000 [00:03<00:00, 33104.75it/s]"
          ],
          "name": "stderr"
        },
        {
          "output_type": "stream",
          "text": [
            "\b\b\b\b\b\b\b\b\b\b\b\b\b\b\b\b\b\b\b\b\b\b\b\b\b\b\b\b\b\b\b\b\b\b\b\b\b\b\b\b\b\b\b\b\b\b\b\b\b\b\b\b\b\b\b\b\b\b\b\b\b\b\b\b\b\b\b\r2000/2000 [==============================] - 158s 79ms/step - loss: 0.1220 - val_loss: 0.1969\n"
          ],
          "name": "stdout"
        },
        {
          "output_type": "stream",
          "text": [
            "\r 97%|█████████▋| 97007/100000 [00:03<00:00, 33802.23it/s]"
          ],
          "name": "stderr"
        },
        {
          "output_type": "stream",
          "text": [
            "Epoch 8/10\n"
          ],
          "name": "stdout"
        },
        {
          "output_type": "stream",
          "text": [
            "\r100%|██████████| 100000/100000 [00:03<00:00, 27061.65it/s]\n"
          ],
          "name": "stderr"
        },
        {
          "output_type": "stream",
          "text": [
            "   7/2000 [..............................] - ETA: 6:31 - loss: 0.1321"
          ],
          "name": "stdout"
        },
        {
          "output_type": "stream",
          "text": [
            "\r  0%|          | 0/10000 [00:00<?, ?it/s]"
          ],
          "name": "stderr"
        },
        {
          "output_type": "stream",
          "text": [
            "\b\b\b\b\b\b\b\b\b\b\b\b\b\b\b\b\b\b\b\b\b\b\b\b\b\b\b\b\b\b\b\b\b\b\b\b\b\b\b\b\b\b\b\b\b\b\b\b\b\b\b\b\b\b\b\b\b\b\b\b\b\b\b\b\b\b\b\b\b\r   8/2000 [..............................] - ETA: 6:02 - loss: 0.1195"
          ],
          "name": "stdout"
        },
        {
          "output_type": "stream",
          "text": [
            "\r 42%|████▏     | 4229/10000 [00:00<00:00, 42287.92it/s]"
          ],
          "name": "stderr"
        },
        {
          "output_type": "stream",
          "text": [
            "\b\b\b\b\b\b\b\b\b\b\b\b\b\b\b\b\b\b\b\b\b\b\b\b\b\b\b\b\b\b\b\b\b\b\b\b\b\b\b\b\b\b\b\b\b\b\b\b\b\b\b\b\b\b\b\b\b\b\b\b\b\b\b\b\b\b\b\b\b\r   9/2000 [..............................] - ETA: 5:40 - loss: 0.1280"
          ],
          "name": "stdout"
        },
        {
          "output_type": "stream",
          "text": [
            "\r 89%|████████▊ | 8868/10000 [00:00<00:00, 43440.05it/s]"
          ],
          "name": "stderr"
        },
        {
          "output_type": "stream",
          "text": [
            "\b\b\b\b\b\b\b\b\b\b\b\b\b\b\b\b\b\b\b\b\b\b\b\b\b\b\b\b\b\b\b\b\b\b\b\b\b\b\b\b\b\b\b\b\b\b\b\b\b\b\b\b\b\b\b\b\b\b\b\b\b\b\b\b\b\b\b\b\b\r  10/2000 [..............................] - ETA: 5:22 - loss: 0.1187"
          ],
          "name": "stdout"
        },
        {
          "output_type": "stream",
          "text": [
            "\r100%|██████████| 10000/10000 [00:00<00:00, 36459.65it/s]\n"
          ],
          "name": "stderr"
        },
        {
          "output_type": "stream",
          "text": [
            "1999/2000 [============================>.] - ETA: 0s - loss: 0.1179"
          ],
          "name": "stdout"
        },
        {
          "output_type": "stream",
          "text": [
            " 96%|█████████▋| 96335/100000 [00:03<00:00, 33525.06it/s]"
          ],
          "name": "stderr"
        },
        {
          "output_type": "stream",
          "text": [
            "\b\b\b\b\b\b\b\b\b\b\b\b\b\b\b\b\b\b\b\b\b\b\b\b\b\b\b\b\b\b\b\b\b\b\b\b\b\b\b\b\b\b\b\b\b\b\b\b\b\b\b\b\b\b\b\b\b\b\b\b\b\b\b\b\b\b\b\r2000/2000 [==============================] - 159s 80ms/step - loss: 0.1179 - val_loss: 0.2107\n"
          ],
          "name": "stdout"
        },
        {
          "output_type": "stream",
          "text": [
            "\r100%|██████████| 100000/100000 [00:03<00:00, 28022.34it/s]\n"
          ],
          "name": "stderr"
        },
        {
          "output_type": "stream",
          "text": [
            "Epoch 9/10\n",
            "  10/2000 [..............................] - ETA: 3:30 - loss: 0.1230"
          ],
          "name": "stdout"
        },
        {
          "output_type": "stream",
          "text": [
            "\r  0%|          | 0/10000 [00:00<?, ?it/s]"
          ],
          "name": "stderr"
        },
        {
          "output_type": "stream",
          "text": [
            "\b\b\b\b\b\b\b\b\b\b\b\b\b\b\b\b\b\b\b\b\b\b\b\b\b\b\b\b\b\b\b\b\b\b\b\b\b\b\b\b\b\b\b\b\b\b\b\b\b\b\b\b\b\b\b\b\b\b\b\b\b\b\b\b\b\b\b\b\b\r  11/2000 [..............................] - ETA: 3:25 - loss: 0.1161"
          ],
          "name": "stdout"
        },
        {
          "output_type": "stream",
          "text": [
            "\r 42%|████▏     | 4237/10000 [00:00<00:00, 42368.73it/s]"
          ],
          "name": "stderr"
        },
        {
          "output_type": "stream",
          "text": [
            "  13/2000 [..............................] - ETA: 3:18 - loss: 0.1085"
          ],
          "name": "stdout"
        },
        {
          "output_type": "stream",
          "text": [
            "\r 82%|████████▏ | 8239/10000 [00:00<00:00, 41633.97it/s]"
          ],
          "name": "stderr"
        },
        {
          "output_type": "stream",
          "text": [
            "\b\b\b\b\b\b\b\b\b\b\b\b\b\b\b\b\b\b\b\b\b\b\b\b\b\b\b\b\b\b\b\b\b\b\b\b\b\b\b\b\b\b\b\b\b\b\b\b\b\b\b\b\b\b\b\b\b\b\b\b\b\b\b\b\b\b\b\b\b\r  14/2000 [..............................] - ETA: 3:47 - loss: 0.1060"
          ],
          "name": "stdout"
        },
        {
          "output_type": "stream",
          "text": [
            "\r100%|██████████| 10000/10000 [00:00<00:00, 18519.03it/s]"
          ],
          "name": "stderr"
        },
        {
          "output_type": "stream",
          "text": [
            "  16/2000 [..............................] - ETA: 3:40 - loss: 0.1116"
          ],
          "name": "stdout"
        },
        {
          "output_type": "stream",
          "text": [
            "\n"
          ],
          "name": "stderr"
        },
        {
          "output_type": "stream",
          "text": [
            "1999/2000 [============================>.] - ETA: 0s - loss: 0.1166"
          ],
          "name": "stdout"
        },
        {
          "output_type": "stream",
          "text": [
            " 97%|█████████▋| 96712/100000 [00:03<00:00, 37242.48it/s]"
          ],
          "name": "stderr"
        },
        {
          "output_type": "stream",
          "text": [
            "\b\b\b\b\b\b\b\b\b\b\b\b\b\b\b\b\b\b\b\b\b\b\b\b\b\b\b\b\b\b\b\b\b\b\b\b\b\b\b\b\b\b\b\b\b\b\b\b\b\b\b\b\b\b\b\b\b\b\b\b\b\b\b\b\b\b\b\r2000/2000 [==============================] - 158s 79ms/step - loss: 0.1167 - val_loss: 0.1634\n"
          ],
          "name": "stdout"
        },
        {
          "output_type": "stream",
          "text": [
            "\r100%|██████████| 100000/100000 [00:03<00:00, 28438.55it/s]\n"
          ],
          "name": "stderr"
        },
        {
          "output_type": "stream",
          "text": [
            "Epoch 10/10\n",
            "   9/2000 [..............................] - ETA: 3:39 - loss: 0.0605"
          ],
          "name": "stdout"
        },
        {
          "output_type": "stream",
          "text": [
            "\r  0%|          | 0/10000 [00:00<?, ?it/s]"
          ],
          "name": "stderr"
        },
        {
          "output_type": "stream",
          "text": [
            "  11/2000 [..............................] - ETA: 3:29 - loss: 0.0522"
          ],
          "name": "stdout"
        },
        {
          "output_type": "stream",
          "text": [
            "\r 30%|██▉       | 2968/10000 [00:00<00:00, 29676.14it/s]"
          ],
          "name": "stderr"
        },
        {
          "output_type": "stream",
          "text": [
            "\b\b\b\b\b\b\b\b\b\b\b\b\b\b\b\b\b\b\b\b\b\b\b\b\b\b\b\b\b\b\b\b\b\b\b\b\b\b\b\b\b\b\b\b\b\b\b\b\b\b\b\b\b\b\b\b\b\b\b\b\b\b\b\b\b\b\b\b\b\r  12/2000 [..............................] - ETA: 3:24 - loss: 0.0487"
          ],
          "name": "stdout"
        },
        {
          "output_type": "stream",
          "text": [
            "\r 67%|██████▋   | 6729/10000 [00:00<00:00, 31680.52it/s]"
          ],
          "name": "stderr"
        },
        {
          "output_type": "stream",
          "text": [
            "\b\b\b\b\b\b\b\b\b\b\b\b\b\b\b\b\b\b\b\b\b\b\b\b\b\b\b\b\b\b\b\b\b\b\b\b\b\b\b\b\b\b\b\b\b\b\b\b\b\b\b\b\b\b\b\b\b\b\b\b\b\b\b\b\b\b\b\b\b\r  13/2000 [..............................] - ETA: 3:20 - loss: 0.0575"
          ],
          "name": "stdout"
        },
        {
          "output_type": "stream",
          "text": [
            "\r100%|██████████| 10000/10000 [00:00<00:00, 30789.89it/s]"
          ],
          "name": "stderr"
        },
        {
          "output_type": "stream",
          "text": [
            "\b\b\b\b\b\b\b\b\b\b\b\b\b\b\b\b\b\b\b\b\b\b\b\b\b\b\b\b\b\b\b\b\b\b\b\b\b\b\b\b\b\b\b\b\b\b\b\b\b\b\b\b\b\b\b\b\b\b\b\b\b\b\b\b\b\b\b\b\b\r  14/2000 [..............................] - ETA: 3:21 - loss: 0.0681"
          ],
          "name": "stdout"
        },
        {
          "output_type": "stream",
          "text": [
            "\n"
          ],
          "name": "stderr"
        },
        {
          "output_type": "stream",
          "text": [
            "1999/2000 [============================>.] - ETA: 0s - loss: 0.1101"
          ],
          "name": "stdout"
        },
        {
          "output_type": "stream",
          "text": [
            " 96%|█████████▌| 95729/100000 [00:03<00:00, 32257.88it/s]"
          ],
          "name": "stderr"
        },
        {
          "output_type": "stream",
          "text": [
            "\b\b\b\b\b\b\b\b\b\b\b\b\b\b\b\b\b\b\b\b\b\b\b\b\b\b\b\b\b\b\b\b\b\b\b\b\b\b\b\b\b\b\b\b\b\b\b\b\b\b\b\b\b\b\b\b\b\b\b\b\b\b\b\b\b\b\b\r2000/2000 [==============================] - 159s 79ms/step - loss: 0.1101 - val_loss: 0.1533\n"
          ],
          "name": "stdout"
        },
        {
          "output_type": "stream",
          "text": [
            "100%|██████████| 100000/100000 [00:03<00:00, 27789.34it/s]\n",
            "100%|██████████| 10000/10000 [00:00<00:00, 61163.57it/s]\n"
          ],
          "name": "stderr"
        }
      ]
    },
    {
      "metadata": {
        "id": "gzNXzMFjiqS_",
        "colab_type": "text"
      },
      "cell_type": "markdown",
      "source": [
        "Training the descriptor model."
      ]
    },
    {
      "metadata": {
        "id": "bgj8HVyAihIc",
        "colab_type": "code",
        "colab": {}
      },
      "cell_type": "code",
      "source": [
        "descriptor_history = descriptor_model.fit_generator(generator=training_generator, epochs=10, verbose=1, validation_data=val_generator)"
      ],
      "execution_count": 0,
      "outputs": []
    },
    {
      "metadata": {
        "id": "mSKkUBCfHz-s",
        "colab_type": "text"
      },
      "cell_type": "markdown",
      "source": [
        "Training curves for the descriptor.\n",
        "\n",
        "Keys for the descriptor history if needed."
      ]
    },
    {
      "metadata": {
        "id": "y2SL351XfNd8",
        "colab_type": "code",
        "colab": {
          "base_uri": "https://localhost:8080/",
          "height": 34
        },
        "outputId": "f097508e-2117-4238-ebfa-f846e878ef16"
      },
      "cell_type": "code",
      "source": [
        "print(descriptor_history.history.keys())"
      ],
      "execution_count": 18,
      "outputs": [
        {
          "output_type": "stream",
          "text": [
            "['loss', 'val_loss']\n"
          ],
          "name": "stdout"
        }
      ]
    },
    {
      "metadata": {
        "id": "4Tq8SmQ2FtyL",
        "colab_type": "code",
        "outputId": "428479f2-69b3-47e0-9642-b4d59e79d8d6",
        "colab": {
          "base_uri": "https://localhost:8080/",
          "height": 393
        }
      },
      "cell_type": "code",
      "source": [
        "import matplotlib.pyplot as plt\n",
        "\n",
        "fig, axes = plt.subplots(2,1)\n",
        "axes[0].plot(descriptor_history.history['loss'], 'r')\n",
        "axes[0].set_title('De-noise Model Training Loss')\n",
        "axes[0].set_ylabel('Error (%)')\n",
        "axes[0].set_xlabel('Number of epochs')\n",
        "\n",
        "fig.subplots_adjust(hspace=0.5)\n",
        "\n",
        "axes[1].plot(descriptor_history.history['val_loss'], 'g')\n",
        "axes[1].set_title('De-noise Model Validation Loss')\n",
        "axes[1].set_ylabel('Error (%)')\n",
        "axes[1].set_xlabel('Number of epochs')"
      ],
      "execution_count": 19,
      "outputs": [
        {
          "output_type": "execute_result",
          "data": {
            "text/plain": [
              "Text(0.5,0,'Number of epochs')"
            ]
          },
          "metadata": {
            "tags": []
          },
          "execution_count": 19
        },
        {
          "output_type": "display_data",
          "data": {
            "image/png": "[encoded data removed]",
            "text/plain": [
              "<Figure size 576x396 with 2 Axes>"
            ]
          },
          "metadata": {
            "tags": []
          }
        }
      ]
    },
    {
      "metadata": {
        "id": "FT_ZWhcmH4MZ",
        "colab_type": "text"
      },
      "cell_type": "markdown",
      "source": [
        "Evaluation of the"
      ]
    },
    {
      "metadata": {
        "id": "T9jfoiFSGJMu",
        "colab_type": "code",
        "outputId": "611b95a2-d952-4f4a-b825-af4bd8283cb0",
        "colab": {
          "base_uri": "https://localhost:8080/",
          "height": 734
        }
      },
      "cell_type": "code",
      "source": [
        "generate_desc_csv(descriptor_model, seqs_test, denoise_model=denoise_model, use_clean=False)\n",
        "\n",
        "!python ./hpatches-benchmark/hpatches_eval.py --descr-name=custom --descr-dir=/content/keras_triplet_descriptor/out/ --task=verification --delimiter=\";\"\n",
        "!python ./hpatches-benchmark/hpatches_results.py --descr=custom --results-dir=./hpatches-benchmark/results/ --task=verification\n",
        "\n",
        "!python ./hpatches-benchmark/hpatches_eval.py --descr-name=custom --descr-dir=/content/keras_triplet_descriptor/out/ --task=matching --delimiter=\";\"\n",
        "!python ./hpatches-benchmark/hpatches_results.py --descr=custom --results-dir=./hpatches-benchmark/results/ --task=matching\n",
        "\n",
        "!python ./hpatches-benchmark/hpatches_eval.py --descr-name=custom --descr-dir=/content/keras_triplet_descriptor/out/ --task=retrieval --delimiter=\";\"\n",
        "!python ./hpatches-benchmark/hpatches_results.py --descr=custom --results-dir=./hpatches-benchmark/results/ --task=retrieval"
      ],
      "execution_count": 20,
      "outputs": [
        {
          "output_type": "stream",
          "text": [
            "100%|██████████| 40/40 [06:16<00:00,  8.25s/it]\n"
          ],
          "name": "stderr"
        },
        {
          "output_type": "stream",
          "text": [
            "\n",
            ">> Running HPatch evaluation for \u001b[34mcustom\u001b[0m\n",
            ">> Please wait, loading the descriptor files...\n",
            ">> Descriptor files loaded.\n",
            ">> Evaluating \u001b[32mverification\u001b[0m task\n",
            "Processing verification task 1/3 : 100% 1000000/1000000 [01:20<00:00, 12350.96it/s]\n",
            "Processing verification task 2/3 : 100% 1000000/1000000 [01:21<00:00, 12342.10it/s]\n",
            "Processing verification task 3/3 : 100% 1000000/1000000 [01:20<00:00, 12349.36it/s]\n",
            ">> \u001b[32mVerification\u001b[0m task finished in 251 secs  \n",
            "\u001b[32mVerification\u001b[0m task results:\n",
            "Mean Average Precision is 0.797795\n",
            "\n",
            "\n",
            "\n",
            ">> Running HPatch evaluation for \u001b[34mcustom\u001b[0m\n",
            ">> Please wait, loading the descriptor files...\n",
            ">> Descriptor files loaded.\n",
            ">> Evaluating \u001b[32mmatching\u001b[0m task\n",
            "100% 40/40 [02:03<00:00,  4.19s/it]\n",
            ">> \u001b[32mMatching\u001b[0m task finished in 123 secs  \n",
            "\u001b[32mMatching\u001b[0m task results:\n",
            "Mean Average Precision is 0.189704\n",
            "\n",
            "\n",
            "\n",
            "\n",
            "\n",
            ">> Running HPatch evaluation for \u001b[34mcustom\u001b[0m\n",
            ">> Please wait, loading the descriptor files...\n",
            ">> Descriptor files loaded.\n",
            ">> Evaluating \u001b[32mretrieval\u001b[0m task\n",
            ">> Please wait, computing distance matrix...\n",
            "tcmalloc: large alloc 1600004096 bytes == 0x55e596f18000 @  0x7f3444ada1e7 0x7f343a6dbcf1 0x7f343a73e3a2 0x7f343a7400de 0x7f343a7d70e8 0x55e5731abfe5 0x55e5731a1d0a 0x55e5731a95fe 0x55e5731a9232 0x55e5731a1d0a 0x55e5731a9c38 0x55e5731a1d0a 0x55e5731a1629 0x55e5731d261f 0x55e5731cd322 0x55e5731cc67d 0x55e57317b1ab 0x7f34446d7b97 0x55e57317aa2a\n",
            ">> Distance matrix done.\n",
            "Processing retrieval task: 100% 10000/10000 [03:42<00:00, 45.14it/s]\n",
            ">> \u001b[32mRetrieval\u001b[0m task finished in 240 secs  \n",
            "\u001b[32mRetrieval\u001b[0m task results:\n",
            "Mean Average Precision is 0.476176\n",
            "\n",
            "\n"
          ],
          "name": "stdout"
        }
      ]
    },
    {
      "metadata": {
        "id": "Xg3thQPalpvG",
        "colab_type": "text"
      },
      "cell_type": "markdown",
      "source": [
        "### TESTING MY IMPROVED APPROACH"
      ]
    },
    {
      "metadata": {
        "id": "HesvgyUwlum3",
        "colab_type": "code",
        "colab": {}
      },
      "cell_type": "code",
      "source": [
        "from keras.applications.resnet50 import ResNet50\n",
        "\n",
        "def get_denoise_model_improved(shape):\n",
        "    \n",
        "  inputs = Input(shape)\n",
        "  \n",
        "  ## Encoder starts\n",
        "  conv1 = Conv2D(16, 3, activation = 'relu', padding = 'same', kernel_initializer = 'he_normal')(inputs)\n",
        "  pool1 = MaxPooling2D(pool_size=(2, 2))(conv1)\n",
        "  \n",
        "  ## Bottleneck\n",
        "  conv2 = Conv2D(32, 3, activation = 'relu', padding = 'same', kernel_initializer = 'he_normal')(pool1)\n",
        "\n",
        "  ## Now the decoder starts\n",
        "  up3 = Conv2D(64, 2, activation = 'relu', padding = 'same', kernel_initializer = 'he_normal')(UpSampling2D(size = (2,2))(conv2))\n",
        "  merge3 = concatenate([conv1,up3], axis = -1)\n",
        "  conv3 = Conv2D(64, 3, activation = 'relu', padding = 'same', kernel_initializer = 'he_normal')(merge3)\n",
        "    \n",
        "  conv4 = Conv2D(1, 3,  padding = 'same')(conv3)\n",
        "\n",
        "  shallow_net = Model(inputs = inputs, outputs = conv4)\n",
        "  \n",
        "  return shallow_net"
      ],
      "execution_count": 0,
      "outputs": []
    },
    {
      "metadata": {
        "id": "L-VqXYLinl_p",
        "colab_type": "code",
        "colab": {}
      },
      "cell_type": "code",
      "source": [
        "try: del denoise_model_improved\n",
        "except: print(\"The model has not been initialized. Compiling...\")\n",
        "\n",
        "shape = (32, 32, 1)\n",
        "denoise_model_improved = get_denoise_model_improved(shape)\n",
        "\n",
        "sgd = keras.optimizers.SGD(lr=0.00001, momentum=0.9, nesterov=True)\n",
        "denoise_model_improved.compile(loss='mean_absolute_error', optimizer=sgd, metrics=['mae'])"
      ],
      "execution_count": 0,
      "outputs": []
    },
    {
      "metadata": {
        "id": "carkkeGJpC6E",
        "colab_type": "code",
        "colab": {
          "base_uri": "https://localhost:8080/",
          "height": 357
        },
        "outputId": "da72c0a0-10d6-4750-c2e7-ec9d558a6cad"
      },
      "cell_type": "code",
      "source": [
        "denoise_history_improved = denoise_model_improved.fit_generator(generator=denoise_generator, epochs=10, verbose=1, validation_data=denoise_generator_val)"
      ],
      "execution_count": 34,
      "outputs": [
        {
          "output_type": "stream",
          "text": [
            "Epoch 1/10\n",
            " - 39s - loss: 8.5208 - mean_absolute_error: 8.5208 - val_loss: 5.6274 - val_mean_absolute_error: 5.6274\n",
            "Epoch 2/10\n",
            " - 36s - loss: 6.5133 - mean_absolute_error: 6.5133 - val_loss: 5.3491 - val_mean_absolute_error: 5.3491\n",
            "Epoch 3/10\n",
            " - 36s - loss: 6.2477 - mean_absolute_error: 6.2477 - val_loss: 5.0916 - val_mean_absolute_error: 5.0916\n",
            "Epoch 4/10\n",
            " - 36s - loss: 6.1257 - mean_absolute_error: 6.1257 - val_loss: 5.0701 - val_mean_absolute_error: 5.0701\n",
            "Epoch 5/10\n",
            " - 36s - loss: 6.0307 - mean_absolute_error: 6.0307 - val_loss: 5.3773 - val_mean_absolute_error: 5.3773\n",
            "Epoch 6/10\n",
            " - 36s - loss: 5.9641 - mean_absolute_error: 5.9641 - val_loss: 4.9506 - val_mean_absolute_error: 4.9506\n",
            "Epoch 7/10\n",
            " - 36s - loss: 5.9439 - mean_absolute_error: 5.9439 - val_loss: 5.1131 - val_mean_absolute_error: 5.1131\n",
            "Epoch 8/10\n",
            " - 36s - loss: 5.9131 - mean_absolute_error: 5.9131 - val_loss: 4.8330 - val_mean_absolute_error: 4.8330\n",
            "Epoch 9/10\n",
            " - 36s - loss: 5.8614 - mean_absolute_error: 5.8614 - val_loss: 4.7865 - val_mean_absolute_error: 4.7865\n",
            "Epoch 10/10\n",
            " - 36s - loss: 5.8293 - mean_absolute_error: 5.8293 - val_loss: 4.7751 - val_mean_absolute_error: 4.7751\n"
          ],
          "name": "stdout"
        }
      ]
    },
    {
      "metadata": {
        "id": "zelGePN3pkal",
        "colab_type": "code",
        "colab": {
          "base_uri": "https://localhost:8080/",
          "height": 34
        },
        "outputId": "78c26ce6-0012-4992-e76b-b94a69589953"
      },
      "cell_type": "code",
      "source": [
        "print(denoise_history_improved.history.keys())"
      ],
      "execution_count": 36,
      "outputs": [
        {
          "output_type": "stream",
          "text": [
            "['val_mean_absolute_error', 'loss', 'mean_absolute_error', 'val_loss']\n"
          ],
          "name": "stdout"
        }
      ]
    },
    {
      "metadata": {
        "id": "5Jz-1hz2pmyr",
        "colab_type": "code",
        "colab": {
          "base_uri": "https://localhost:8080/",
          "height": 393
        },
        "outputId": "b470c3cf-feeb-4d1e-b624-b0da6cf67d7e"
      },
      "cell_type": "code",
      "source": [
        "import matplotlib.pyplot as plt\n",
        "\n",
        "fig, axes = plt.subplots(2,1)\n",
        "axes[0].plot(denoise_history_improved.history['mean_absolute_error'], 'r')\n",
        "axes[0].set_title('De-noise Model Training Loss')\n",
        "axes[0].set_ylabel('Mean Average Error (%)')\n",
        "axes[0].set_xlabel('Number of epochs')\n",
        "\n",
        "fig.subplots_adjust(hspace=0.5)\n",
        "\n",
        "axes[1].plot(denoise_history_improved.history['val_mean_absolute_error'], 'g')\n",
        "axes[1].set_title('De-noise Model Validation Loss')\n",
        "axes[1].set_ylabel('Mean Average Error (%)')\n",
        "axes[1].set_xlabel('Number of epochs')"
      ],
      "execution_count": 37,
      "outputs": [
        {
          "output_type": "execute_result",
          "data": {
            "text/plain": [
              "Text(0.5,0,'Number of epochs')"
            ]
          },
          "metadata": {
            "tags": []
          },
          "execution_count": 37
        },
        {
          "output_type": "display_data",
          "data": {
            "image/png": "[encoded data removed]",
            "text/plain": [
              "<Figure size 576x396 with 2 Axes>"
            ]
          },
          "metadata": {
            "tags": []
          }
        }
      ]
    }
  ]
}